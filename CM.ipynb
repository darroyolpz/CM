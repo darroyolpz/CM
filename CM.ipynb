{
 "cells": [
  {
   "cell_type": "markdown",
   "metadata": {},
   "source": [
    "# Box-fans margins"
   ]
  },
  {
   "cell_type": "markdown",
   "metadata": {},
   "source": [
    "Import needed modules"
   ]
  },
  {
   "cell_type": "code",
   "execution_count": 1,
   "metadata": {
    "collapsed": true
   },
   "outputs": [],
   "source": [
    "import pandas as pd\n",
    "from pandas import ExcelWriter\n",
    "import time"
   ]
  },
  {
   "cell_type": "markdown",
   "metadata": {},
   "source": [
    "Import Excel file"
   ]
  },
  {
   "cell_type": "code",
   "execution_count": 2,
   "metadata": {
    "collapsed": false
   },
   "outputs": [
    {
     "name": "stdout",
     "output_type": "stream",
     "text": [
      "Wall time: 12 s\n"
     ]
    }
   ],
   "source": [
    "%%time\n",
    "file = 'Sales.xlsx'\n",
    "cols = ['Customer no', 'Order no', 'Customer´s order no', 'Order date',\n",
    "        'Product group descr', 'Qty', 'Amount', 'Cost amount']\n",
    "df = pd.read_excel(file, usecols = cols, skiprows = [1])"
   ]
  },
  {
   "cell_type": "markdown",
   "metadata": {},
   "source": [
    "Use only Systemair Morocco client (MA010 & C960)"
   ]
  },
  {
   "cell_type": "code",
   "execution_count": 3,
   "metadata": {
    "collapsed": false
   },
   "outputs": [
    {
     "data": {
      "text/html": [
       "<div>\n",
       "<table border=\"1\" class=\"dataframe\">\n",
       "  <thead>\n",
       "    <tr style=\"text-align: right;\">\n",
       "      <th></th>\n",
       "      <th>Customer no</th>\n",
       "      <th>Order no</th>\n",
       "      <th>Customer´s order no</th>\n",
       "      <th>Order date</th>\n",
       "      <th>Product group descr</th>\n",
       "      <th>Qty</th>\n",
       "      <th>Amount</th>\n",
       "      <th>Cost amount</th>\n",
       "    </tr>\n",
       "  </thead>\n",
       "  <tbody>\n",
       "    <tr>\n",
       "      <th>0</th>\n",
       "      <td>MA0100</td>\n",
       "      <td>4336914</td>\n",
       "      <td>150/2017</td>\n",
       "      <td>20170505</td>\n",
       "      <td>201   Circular duct fans</td>\n",
       "      <td>5</td>\n",
       "      <td>1787.85</td>\n",
       "      <td>1727.460</td>\n",
       "    </tr>\n",
       "    <tr>\n",
       "      <th>1</th>\n",
       "      <td>MA0100</td>\n",
       "      <td>4336940</td>\n",
       "      <td>158/2017</td>\n",
       "      <td>20170505</td>\n",
       "      <td>217   Smoke extract fans</td>\n",
       "      <td>1</td>\n",
       "      <td>455.80</td>\n",
       "      <td>383.055</td>\n",
       "    </tr>\n",
       "    <tr>\n",
       "      <th>2</th>\n",
       "      <td>MA0100</td>\n",
       "      <td>4349613</td>\n",
       "      <td>170/2017</td>\n",
       "      <td>20170517</td>\n",
       "      <td>217   Smoke extract fans</td>\n",
       "      <td>2</td>\n",
       "      <td>1730.92</td>\n",
       "      <td>1403.550</td>\n",
       "    </tr>\n",
       "    <tr>\n",
       "      <th>3</th>\n",
       "      <td>MA0100</td>\n",
       "      <td>4358454</td>\n",
       "      <td>174/2017</td>\n",
       "      <td>20170525</td>\n",
       "      <td>201   Circular duct fans</td>\n",
       "      <td>1</td>\n",
       "      <td>323.48</td>\n",
       "      <td>317.529</td>\n",
       "    </tr>\n",
       "    <tr>\n",
       "      <th>4</th>\n",
       "      <td>MA0100</td>\n",
       "      <td>4359730</td>\n",
       "      <td>183/2017</td>\n",
       "      <td>20170526</td>\n",
       "      <td>217   Smoke extract fans</td>\n",
       "      <td>1</td>\n",
       "      <td>493.13</td>\n",
       "      <td>379.366</td>\n",
       "    </tr>\n",
       "  </tbody>\n",
       "</table>\n",
       "</div>"
      ],
      "text/plain": [
       "  Customer no  Order no Customer´s order no  Order date  \\\n",
       "0      MA0100   4336914            150/2017    20170505   \n",
       "1      MA0100   4336940            158/2017    20170505   \n",
       "2      MA0100   4349613            170/2017    20170517   \n",
       "3      MA0100   4358454            174/2017    20170525   \n",
       "4      MA0100   4359730            183/2017    20170526   \n",
       "\n",
       "        Product group descr  Qty   Amount  Cost amount  \n",
       "0  201   Circular duct fans    5  1787.85     1727.460  \n",
       "1  217   Smoke extract fans    1   455.80      383.055  \n",
       "2  217   Smoke extract fans    2  1730.92     1403.550  \n",
       "3  201   Circular duct fans    1   323.48      317.529  \n",
       "4  217   Smoke extract fans    1   493.13      379.366  "
      ]
     },
     "execution_count": 3,
     "metadata": {},
     "output_type": "execute_result"
    }
   ],
   "source": [
    "df = df[(df['Customer no'] == 'MA0100') | (df['Customer no'] == 'C960')]\n",
    "df = df.reset_index(drop=True)\n",
    "df.head()"
   ]
  },
  {
   "cell_type": "markdown",
   "metadata": {},
   "source": [
    "Slicing the dates - Using loop"
   ]
  },
  {
   "cell_type": "code",
   "execution_count": 4,
   "metadata": {
    "collapsed": false
   },
   "outputs": [
    {
     "name": "stderr",
     "output_type": "stream",
     "text": [
      "C:\\Program Files\\Anaconda3\\lib\\site-packages\\pandas\\core\\indexing.py:132: SettingWithCopyWarning: \n",
      "A value is trying to be set on a copy of a slice from a DataFrame\n",
      "\n",
      "See the caveats in the documentation: http://pandas.pydata.org/pandas-docs/stable/indexing.html#indexing-view-versus-copy\n",
      "  self._setitem_with_indexer(indexer, value)\n"
     ]
    },
    {
     "name": "stdout",
     "output_type": "stream",
     "text": [
      "--- 41.53915357589722 seconds ---\n"
     ]
    }
   ],
   "source": [
    "df['Order date'] = df['Order date'].astype(str)\n",
    "df['New period'] = 0\n",
    "\n",
    "start_time = time.time()\n",
    "\n",
    "length, x = len(df['Order date']), 0\n",
    "\n",
    "while x < length:\n",
    "    value = df['Order date'].iloc[x]\n",
    "    df['New period'].iloc[x] = value[0:6]\n",
    "    x += 1\n",
    "\n",
    "python_loop = time.time() - start_time \n",
    "print(\"--- %s seconds ---\" % python_loop)"
   ]
  },
  {
   "cell_type": "markdown",
   "metadata": {},
   "source": [
    "Slicing the dates - Using Pandas vectorization"
   ]
  },
  {
   "cell_type": "code",
   "execution_count": 5,
   "metadata": {
    "collapsed": false
   },
   "outputs": [
    {
     "name": "stdout",
     "output_type": "stream",
     "text": [
      "--- 0.0030002593994140625 seconds ---\n",
      "Pandas loop is  13845.187380801017  faster\n"
     ]
    }
   ],
   "source": [
    "start_time = time.time()\n",
    "\n",
    "def period(order_date):\n",
    "    new_val = order_date.str.slice(0,6)\n",
    "    return new_val\n",
    "\n",
    "df['Period'] = period(df['Order date'])\n",
    "\n",
    "pandas_loop = time.time() - start_time \n",
    "print(\"--- %s seconds ---\" % pandas_loop)\n",
    "ratio = python_loop / pandas_loop\n",
    "print('Pandas loop is ', ratio, ' faster')"
   ]
  },
  {
   "cell_type": "code",
   "execution_count": 15,
   "metadata": {
    "collapsed": false
   },
   "outputs": [
    {
     "name": "stdout",
     "output_type": "stream",
     "text": [
      "Wall time: 1 ms\n"
     ]
    },
    {
     "data": {
      "text/plain": [
       "1382.6110714285721"
      ]
     },
     "execution_count": 15,
     "metadata": {},
     "output_type": "execute_result"
    }
   ],
   "source": [
    "%%time\n",
    "df['Amount'].mean()"
   ]
  }
 ],
 "metadata": {
  "anaconda-cloud": {},
  "kernelspec": {
   "display_name": "Python [conda root]",
   "language": "python",
   "name": "conda-root-py"
  },
  "language_info": {
   "codemirror_mode": {
    "name": "ipython",
    "version": 3
   },
   "file_extension": ".py",
   "mimetype": "text/x-python",
   "name": "python",
   "nbconvert_exporter": "python",
   "pygments_lexer": "ipython3",
   "version": "3.5.2"
  }
 },
 "nbformat": 4,
 "nbformat_minor": 2
}
